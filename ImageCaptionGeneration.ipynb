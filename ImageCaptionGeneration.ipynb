{
  "cells": [
    {
      "cell_type": "code",
      "execution_count": 1,
      "metadata": {
        "colab": {
          "base_uri": "https://localhost:8080/"
        },
        "id": "unVhCSc3krt5",
        "outputId": "34efed18-9308-43d8-9669-dc5221f3c715"
      },
      "outputs": [
        {
          "output_type": "stream",
          "name": "stdout",
          "text": [
            "/usr/local/lib/python3.11/dist-packages/gdown/__main__.py:140: FutureWarning: Option `--id` was deprecated in version 4.3.1 and will be removed in 5.0. You don't need to pass it anymore to use a file ID.\n",
            "  warnings.warn(\n",
            "Downloading...\n",
            "From (original): https://drive.google.com/uc?id=1ErivRe__3kjo9SlbmjSXEM7snEZ_M2zZ\n",
            "From (redirected): https://drive.google.com/uc?id=1ErivRe__3kjo9SlbmjSXEM7snEZ_M2zZ&confirm=t&uuid=6a76f2d7-5333-4b85-8652-9aab1691b778\n",
            "To: /content/Images.zip\n",
            "100% 1.11G/1.11G [00:21<00:00, 52.0MB/s]\n",
            "/usr/local/lib/python3.11/dist-packages/gdown/__main__.py:140: FutureWarning: Option `--id` was deprecated in version 4.3.1 and will be removed in 5.0. You don't need to pass it anymore to use a file ID.\n",
            "  warnings.warn(\n",
            "Downloading...\n",
            "From: https://drive.google.com/uc?id=1ip5nmsRAfUrR-fzzQEDSyrngh9UM_ySM\n",
            "To: /content/captions.csv\n",
            "100% 3.32M/3.32M [00:00<00:00, 172MB/s]\n"
          ]
        }
      ],
      "source": [
        "!pip install -q gdown\n",
        "!gdown --id 1ErivRe__3kjo9SlbmjSXEM7snEZ_M2zZ\n",
        "!gdown --id 1ip5nmsRAfUrR-fzzQEDSyrngh9UM_ySM\n",
        "!unzip -q Images.zip"
      ]
    },
    {
      "cell_type": "code",
      "execution_count": 2,
      "metadata": {
        "colab": {
          "base_uri": "https://localhost:8080/"
        },
        "id": "wRNA9fHomiiX",
        "outputId": "8201c646-46c2-4a0c-8139-c55316b566de"
      },
      "outputs": [
        {
          "output_type": "stream",
          "name": "stdout",
          "text": [
            "Collecting keras-tuner\n",
            "  Downloading keras_tuner-1.4.7-py3-none-any.whl.metadata (5.4 kB)\n",
            "Requirement already satisfied: keras in /usr/local/lib/python3.11/dist-packages (from keras-tuner) (3.8.0)\n",
            "Requirement already satisfied: packaging in /usr/local/lib/python3.11/dist-packages (from keras-tuner) (24.2)\n",
            "Requirement already satisfied: requests in /usr/local/lib/python3.11/dist-packages (from keras-tuner) (2.32.3)\n",
            "Collecting kt-legacy (from keras-tuner)\n",
            "  Downloading kt_legacy-1.0.5-py3-none-any.whl.metadata (221 bytes)\n",
            "Requirement already satisfied: absl-py in /usr/local/lib/python3.11/dist-packages (from keras->keras-tuner) (1.4.0)\n",
            "Requirement already satisfied: numpy in /usr/local/lib/python3.11/dist-packages (from keras->keras-tuner) (2.0.2)\n",
            "Requirement already satisfied: rich in /usr/local/lib/python3.11/dist-packages (from keras->keras-tuner) (13.9.4)\n",
            "Requirement already satisfied: namex in /usr/local/lib/python3.11/dist-packages (from keras->keras-tuner) (0.0.8)\n",
            "Requirement already satisfied: h5py in /usr/local/lib/python3.11/dist-packages (from keras->keras-tuner) (3.13.0)\n",
            "Requirement already satisfied: optree in /usr/local/lib/python3.11/dist-packages (from keras->keras-tuner) (0.15.0)\n",
            "Requirement already satisfied: ml-dtypes in /usr/local/lib/python3.11/dist-packages (from keras->keras-tuner) (0.4.1)\n",
            "Requirement already satisfied: charset-normalizer<4,>=2 in /usr/local/lib/python3.11/dist-packages (from requests->keras-tuner) (3.4.1)\n",
            "Requirement already satisfied: idna<4,>=2.5 in /usr/local/lib/python3.11/dist-packages (from requests->keras-tuner) (3.10)\n",
            "Requirement already satisfied: urllib3<3,>=1.21.1 in /usr/local/lib/python3.11/dist-packages (from requests->keras-tuner) (2.3.0)\n",
            "Requirement already satisfied: certifi>=2017.4.17 in /usr/local/lib/python3.11/dist-packages (from requests->keras-tuner) (2025.1.31)\n",
            "Requirement already satisfied: typing-extensions>=4.5.0 in /usr/local/lib/python3.11/dist-packages (from optree->keras->keras-tuner) (4.13.2)\n",
            "Requirement already satisfied: markdown-it-py>=2.2.0 in /usr/local/lib/python3.11/dist-packages (from rich->keras->keras-tuner) (3.0.0)\n",
            "Requirement already satisfied: pygments<3.0.0,>=2.13.0 in /usr/local/lib/python3.11/dist-packages (from rich->keras->keras-tuner) (2.18.0)\n",
            "Requirement already satisfied: mdurl~=0.1 in /usr/local/lib/python3.11/dist-packages (from markdown-it-py>=2.2.0->rich->keras->keras-tuner) (0.1.2)\n",
            "Downloading keras_tuner-1.4.7-py3-none-any.whl (129 kB)\n",
            "\u001b[2K   \u001b[90m━━━━━━━━━━━━━━━━━━━━━━━━━━━━━━━━━━━━━━━━\u001b[0m \u001b[32m129.1/129.1 kB\u001b[0m \u001b[31m10.4 MB/s\u001b[0m eta \u001b[36m0:00:00\u001b[0m\n",
            "\u001b[?25hDownloading kt_legacy-1.0.5-py3-none-any.whl (9.6 kB)\n",
            "Installing collected packages: kt-legacy, keras-tuner\n",
            "Successfully installed keras-tuner-1.4.7 kt-legacy-1.0.5\n"
          ]
        }
      ],
      "source": [
        "!pip install keras-tuner\n"
      ]
    },
    {
      "cell_type": "markdown",
      "metadata": {
        "id": "Sn1b-WakmDed"
      },
      "source": [
        "Import necessary libraries"
      ]
    },
    {
      "cell_type": "code",
      "execution_count": 3,
      "metadata": {
        "id": "rNnlIuM7l3cs"
      },
      "outputs": [],
      "source": [
        "import numpy as np\n",
        "import pandas as pd\n",
        "import os\n",
        "import matplotlib.pyplot as plt\n",
        "import keras_tuner as kt\n",
        "import pickle\n",
        "import tensorflow as tf\n",
        "from tensorflow.keras.models import Model\n",
        "from tensorflow.keras.preprocessing.text import Tokenizer\n",
        "from tensorflow.keras.preprocessing.sequence import pad_sequences\n",
        "from tensorflow.keras.layers import Embedding, LSTM, Dense, Dropout, Input, add\n",
        "from tensorflow.keras.optimizers import Adam\n",
        "from sklearn.model_selection import train_test_split\n",
        "from tensorflow.keras.preprocessing.image import load_img, img_to_array\n",
        "#from tensorflow.keras.applications import InceptionV3\n",
        "#from tensorflow.keras.applications.inception_v3 import preprocess_input\n",
        "from tensorflow.keras.callbacks import EarlyStopping, ModelCheckpoint\n",
        "from tqdm import tqdm"
      ]
    },
    {
      "cell_type": "markdown",
      "metadata": {
        "id": "DxDABKFzm7Dz"
      },
      "source": [
        "Managing File Paths"
      ]
    },
    {
      "cell_type": "code",
      "execution_count": 4,
      "metadata": {
        "id": "JFp9NOifmIc6"
      },
      "outputs": [],
      "source": [
        "DATASET_PATH = 'Images'\n",
        "CAPTION_PATH = 'captions.csv'\n",
        "OUTPUT_DIR = 'outputs'\n",
        "os.makedirs(OUTPUT_DIR, exist_ok=True)\n",
        "\n",
        "MODELS_DIR = os.path.join(OUTPUT_DIR, 'Models')\n",
        "os.makedirs(MODELS_DIR, exist_ok=True)\n"
      ]
    },
    {
      "cell_type": "markdown",
      "metadata": {
        "id": "IY9JHNI7m_oy"
      },
      "source": [
        "Parse Captions"
      ]
    },
    {
      "cell_type": "code",
      "execution_count": 5,
      "metadata": {
        "id": "stzHRBS_m9e_"
      },
      "outputs": [],
      "source": [
        "def load_image_captions(filepath):\n",
        "    captions = {}\n",
        "    with open(filepath, 'r', encoding='utf-8') as file:\n",
        "        for line in file:\n",
        "            parts = line.strip().split(',', 1)\n",
        "            if len(parts) < 2:\n",
        "                continue\n",
        "            image_id, caption = parts\n",
        "            image_id = image_id.strip().split('.')[0]\n",
        "            if image_id not in captions:\n",
        "                captions[image_id] = []\n",
        "            captions[image_id].append(\"<start> \" + caption.strip() + \" <end>\")\n",
        "    return captions\n"
      ]
    },
    {
      "cell_type": "markdown",
      "metadata": {
        "id": "sOJY-6eAnudU"
      },
      "source": [
        "Recreate captions"
      ]
    },
    {
      "cell_type": "code",
      "execution_count": 6,
      "metadata": {
        "id": "cGqPwKeknpn9"
      },
      "outputs": [],
      "source": [
        "def recreate_captions(captions):\n",
        "    for img_id in captions:\n",
        "        captions[img_id] = [cap.lower() for cap in captions[img_id]]\n",
        "    return captions"
      ]
    },
    {
      "cell_type": "code",
      "execution_count": 7,
      "metadata": {
        "colab": {
          "base_uri": "https://localhost:8080/"
        },
        "id": "I8zlPsB8nype",
        "outputId": "e4e0b057-ca10-4031-9cd0-99510aa7a15b"
      },
      "outputs": [
        {
          "output_type": "stream",
          "name": "stdout",
          "text": [
            "Captions: 8092 \n"
          ]
        }
      ],
      "source": [
        "captions = load_image_captions(CAPTION_PATH)\n",
        "captions = recreate_captions(captions)\n",
        "print(f\"Captions: {len(captions)} \")"
      ]
    },
    {
      "cell_type": "markdown",
      "metadata": {
        "id": "Q3gJ87gHoA1L"
      },
      "source": [
        "Spliting the data"
      ]
    },
    {
      "cell_type": "code",
      "execution_count": 8,
      "metadata": {
        "colab": {
          "base_uri": "https://localhost:8080/"
        },
        "id": "dVDjiSFtn0dZ",
        "outputId": "a436554b-ea97-4cad-e4f3-db75b9d1db3d"
      },
      "outputs": [
        {
          "output_type": "stream",
          "name": "stdout",
          "text": [
            "Train: 5664, Validation: 1214, Test: 1214\n"
          ]
        }
      ],
      "source": [
        "def create_data_splits(captions):\n",
        "    all_image_ids = list(captions.keys())\n",
        "    np.random.seed(42)\n",
        "    np.random.shuffle(all_image_ids)\n",
        "    train_split = int(0.7 * len(all_image_ids))\n",
        "    val_split = int(0.85 * len(all_image_ids))\n",
        "    return all_image_ids[:train_split], all_image_ids[train_split:val_split], all_image_ids[val_split:]\n",
        "\n",
        "train_ids, val_ids, test_ids = create_data_splits(captions)\n",
        "print(f\"Train: {len(train_ids)}, Validation: {len(val_ids)}, Test: {len(test_ids)}\")\n"
      ]
    },
    {
      "cell_type": "markdown",
      "metadata": {
        "id": "Du0dLpZ7oQyM"
      },
      "source": [
        "Vocabulary and Tokenizer Captions"
      ]
    },
    {
      "cell_type": "code",
      "execution_count": 9,
      "metadata": {
        "colab": {
          "base_uri": "https://localhost:8080/"
        },
        "id": "fPBZV7ENoOQ9",
        "outputId": "f9a46d4f-cb2f-425c-c8c8-37c950271004"
      },
      "outputs": [
        {
          "output_type": "stream",
          "name": "stdout",
          "text": [
            "Size of Vocabulary: 8495, Max length of captions: 40\n"
          ]
        }
      ],
      "source": [
        "def build_vocabulary(captions):\n",
        "    all_captions = [caption for caption_list in captions.values() for caption in caption_list]\n",
        "    tokenizer = Tokenizer()\n",
        "    tokenizer.fit_on_texts(all_captions)\n",
        "    vocabulary_size = len(tokenizer.word_index) + 1\n",
        "    max_caption_length = max(len(c.split()) for c in all_captions)\n",
        "    return tokenizer, vocabulary_size, max_caption_length\n",
        "\n",
        "tokenizer, vocabulary_size, max_caption_length = build_vocabulary(captions)\n",
        "print(f\"Size of Vocabulary: {vocabulary_size}, Max length of captions: {max_caption_length}\")\n"
      ]
    },
    {
      "cell_type": "code",
      "execution_count": 10,
      "metadata": {
        "id": "LU_hMIt6nfu_"
      },
      "outputs": [],
      "source": [
        "from tensorflow.keras.models import Model\n",
        "from tensorflow.keras.layers import Conv2D, MaxPooling2D, GlobalAveragePooling2D, Input, BatchNormalization, ReLU\n",
        "from tensorflow.keras import Sequential\n",
        "\n",
        "def build_custom_cnn():\n",
        "    model = Sequential([\n",
        "        Input(shape=(299, 299, 3)),\n",
        "        Conv2D(32, (3,3), activation='relu', padding='same'),\n",
        "        BatchNormalization(),\n",
        "        MaxPooling2D((2,2)),\n",
        "\n",
        "        Conv2D(64, (3,3), activation='relu', padding='same'),\n",
        "        BatchNormalization(),\n",
        "        MaxPooling2D((2,2)),\n",
        "\n",
        "        Conv2D(128, (3,3), activation='relu', padding='same'),\n",
        "        BatchNormalization(),\n",
        "        MaxPooling2D((2,2)),\n",
        "\n",
        "        Conv2D(256, (3,3), activation='relu', padding='same'),\n",
        "        BatchNormalization(),\n",
        "        GlobalAveragePooling2D(),  # Replace Flatten with this for feature vector\n",
        "    ])\n",
        "    return model\n"
      ]
    },
    {
      "cell_type": "markdown",
      "metadata": {
        "id": "PmvHrmkHoc-M"
      },
      "source": [
        "Extract image features"
      ]
    },
    {
      "cell_type": "code",
      "execution_count": 11,
      "metadata": {
        "colab": {
          "base_uri": "https://localhost:8080/"
        },
        "id": "gFJEXNEioase",
        "outputId": "161f6d46-3fe8-4744-cb01-dbb537087de4"
      },
      "outputs": [
        {
          "output_type": "stream",
          "name": "stderr",
          "text": [
            "100%|██████████| 8092/8092 [10:48<00:00, 12.49it/s]"
          ]
        },
        {
          "output_type": "stream",
          "name": "stdout",
          "text": [
            "Image features extracted and saved using custom CNN.\n"
          ]
        },
        {
          "output_type": "stream",
          "name": "stderr",
          "text": [
            "\n"
          ]
        }
      ],
      "source": [
        "feature_file_path = os.path.join(OUTPUT_DIR, \"custom_image_features.pkl\")\n",
        "if os.path.exists(feature_file_path):\n",
        "    with open(feature_file_path, 'rb') as file:\n",
        "        features = pickle.load(file)\n",
        "    print(\"Image features loaded from file.\")\n",
        "else:\n",
        "    base_model = build_custom_cnn()\n",
        "\n",
        "    def extract_image_features(image_dir, image_ids):\n",
        "        features = {}\n",
        "        for img_id in tqdm(image_ids):\n",
        "            file_path = os.path.join(image_dir, img_id + \".jpg\")\n",
        "            if not os.path.exists(file_path): continue\n",
        "            img = load_img(file_path, target_size=(299, 299))\n",
        "            img = img_to_array(img)\n",
        "            img = np.expand_dims(img, axis=0)\n",
        "            img = preprocess_input(img)  # Still needed if you want normalized input\n",
        "            feature = base_model.predict(img, verbose=0)\n",
        "            features[img_id] = feature.flatten()\n",
        "        return features\n",
        "\n",
        "    features = extract_image_features(DATASET_PATH, list(set(train_ids + val_ids + test_ids)))\n",
        "\n",
        "    # Save features\n",
        "    with open(feature_file_path, \"wb\") as file:\n",
        "        pickle.dump(features, file)\n",
        "    print(\"Image features extracted and saved using custom CNN.\")\n"
      ]
    },
    {
      "cell_type": "markdown",
      "metadata": {
        "id": "PLAfA8zMr8SM"
      },
      "source": [
        "Sequences for Training"
      ]
    },
    {
      "cell_type": "code",
      "execution_count": 12,
      "metadata": {
        "colab": {
          "base_uri": "https://localhost:8080/"
        },
        "id": "PO5tnlhqopnW",
        "outputId": "e4560020-a5d6-4dc4-c9b0-1b5e6ee3238f"
      },
      "outputs": [
        {
          "output_type": "stream",
          "name": "stdout",
          "text": [
            "Size of Vocabulary :8495, Max length of captions: 40\n",
            "Train samples: 335100\n",
            "Validation samples: 71484\n"
          ]
        }
      ],
      "source": [
        "# Function to create vocabulary from all captions\n",
        "def create_vocabulary(captions):\n",
        "    all_captions = [caption for cap_list in captions.values() for caption in cap_list]\n",
        "    tokenizer = Tokenizer()\n",
        "    tokenizer.fit_on_texts(all_captions)\n",
        "    vocab_size = len(tokenizer.word_index) + 1\n",
        "    max_length = max(len(c.split()) for c in all_captions)\n",
        "    return tokenizer, vocab_size, max_length\n",
        "\n",
        "# Generate tokenizer, vocab size, and max caption length\n",
        "tokenizer, vocab_size, max_length = create_vocabulary(captions)\n",
        "print(f\"Size of Vocabulary :{vocab_size}, Max length of captions: {max_length}\")\n",
        "\n",
        "# Function to generate sequences for image captioning\n",
        "def generate_sequences(tokenizer, max_length, captions, features, image_ids):\n",
        "    image_inputs, sequence_inputs, next_words = [], [], []\n",
        "\n",
        "    for img_id in image_ids:\n",
        "        if img_id not in captions or img_id not in features:\n",
        "            continue\n",
        "        for caption in captions[img_id]:\n",
        "            seq = tokenizer.texts_to_sequences([caption])[0]\n",
        "            for i in range(1, len(seq)):\n",
        "                image_inputs.append(features[img_id])\n",
        "                sequence_inputs.append(seq[:i])\n",
        "                next_words.append(seq[i])\n",
        "\n",
        "    padded_sequences = pad_sequences(sequence_inputs, maxlen=max_length, padding='post')\n",
        "    return np.array(image_inputs), np.array(padded_sequences), np.array(next_words)\n",
        "\n",
        "# Generate training and validation data\n",
        "train_img, train_seq, train_out = generate_sequences(tokenizer, max_length, captions, features, train_ids)\n",
        "val_img, val_seq, val_out = generate_sequences(tokenizer, max_length, captions, features, val_ids)\n",
        "\n",
        "print(f\"Train samples: {len(train_img)}\")\n",
        "print(f\"Validation samples: {len(val_img)}\")\n"
      ]
    },
    {
      "cell_type": "markdown",
      "metadata": {
        "id": "bMxjxm2ms36d"
      },
      "source": [
        "Define hyperparameters and Model"
      ]
    },
    {
      "cell_type": "code",
      "execution_count": 13,
      "metadata": {
        "id": "lfHJ8jdTsKtm"
      },
      "outputs": [],
      "source": [
        "def construct_model(hyper):\n",
        "    feature_size = train_img.shape[1]\n",
        "\n",
        "    embedding_dim = hyper.Choice('embedding_dim', [64, 128, 256])\n",
        "    lstm_units = hyper.Choice('lstm_units', [128, 256, 512])\n",
        "    dense_units = hyper.Choice('dense_units', [256, 512])\n",
        "    dropout_rate = hyper.Float('dropout_rate', 0.2, 0.5, step=0.1)\n",
        "    learning_rate = hyper.Choice('learning_rate', [1e-3, 1e-4, 1e-5])\n",
        "\n",
        "    image_input = Input(shape=(feature_size,))\n",
        "    x1 = Dropout(dropout_rate)(image_input)\n",
        "    x2 = Dense(dense_units, activation='relu')(x1)\n",
        "\n",
        "    caption_input = Input(shape=(max_length,))\n",
        "    x3 = Embedding(vocab_size, embedding_dim, mask_zero=True)(caption_input)\n",
        "    x4 = Dropout(dropout_rate)(x3)\n",
        "    x5 = LSTM(lstm_units)(x4)\n",
        "\n",
        "    merged = add([x2, Dense(dense_units)(x5)])\n",
        "    x6 = Dense(dense_units, activation='relu')(merged)\n",
        "    output = Dense(vocab_size, activation='softmax')(x6)\n",
        "\n",
        "    model = Model(inputs=[image_input, caption_input], outputs=output)\n",
        "    model.compile(\n",
        "        loss='sparse_categorical_crossentropy',\n",
        "        optimizer=Adam(learning_rate=learning_rate),\n",
        "        metrics=['accuracy']\n",
        "    )\n",
        "    return model\n"
      ]
    },
    {
      "cell_type": "markdown",
      "metadata": {
        "id": "kd-SbA_UtKKR"
      },
      "source": [
        "hyper parameter tuning"
      ]
    },
    {
      "cell_type": "code",
      "execution_count": 14,
      "metadata": {
        "id": "H271cRzJtInr"
      },
      "outputs": [],
      "source": [
        "tuner = kt.RandomSearch(\n",
        "    construct_model,\n",
        "    objective='val_accuracy',\n",
        "    max_trials=2,\n",
        "    executions_per_trial=1,\n",
        "    directory=os.path.join(OUTPUT_DIR, 'caption_tuning'),\n",
        "    project_name='cnn_lstm_tune'\n",
        ")\n"
      ]
    },
    {
      "cell_type": "code",
      "execution_count": 15,
      "metadata": {
        "colab": {
          "base_uri": "https://localhost:8080/"
        },
        "id": "djVvfD10tUq5",
        "outputId": "91f4f149-2ef5-4c40-a931-b5e36ec880c9"
      },
      "outputs": [
        {
          "output_type": "stream",
          "name": "stdout",
          "text": [
            "Search space summary\n",
            "Default search space size: 5\n",
            "embedding_dim (Choice)\n",
            "{'default': 64, 'conditions': [], 'values': [64, 128, 256], 'ordered': True}\n",
            "lstm_units (Choice)\n",
            "{'default': 128, 'conditions': [], 'values': [128, 256, 512], 'ordered': True}\n",
            "dense_units (Choice)\n",
            "{'default': 256, 'conditions': [], 'values': [256, 512], 'ordered': True}\n",
            "dropout_rate (Float)\n",
            "{'default': 0.2, 'conditions': [], 'min_value': 0.2, 'max_value': 0.5, 'step': 0.1, 'sampling': 'linear'}\n",
            "learning_rate (Choice)\n",
            "{'default': 0.001, 'conditions': [], 'values': [0.001, 0.0001, 1e-05], 'ordered': True}\n"
          ]
        }
      ],
      "source": [
        "tuner.search_space_summary()"
      ]
    },
    {
      "cell_type": "code",
      "execution_count": 16,
      "metadata": {
        "colab": {
          "base_uri": "https://localhost:8080/"
        },
        "id": "tk2S2tfmtX9j",
        "outputId": "9375bca5-d262-40eb-e6df-b8f7a14e861a"
      },
      "outputs": [
        {
          "output_type": "stream",
          "name": "stdout",
          "text": [
            "Trial 2 Complete [00h 06m 35s]\n",
            "val_accuracy: 0.3736080825328827\n",
            "\n",
            "Best val_accuracy So Far: 0.3754546344280243\n",
            "Total elapsed time: 00h 13m 09s\n"
          ]
        }
      ],
      "source": [
        "tuner.search(\n",
        "    [train_img, train_seq], train_out,\n",
        "    validation_data=([val_img, val_seq], val_out),\n",
        "    epochs=5,\n",
        "    batch_size=64,\n",
        "    callbacks=[EarlyStopping(monitor='val_loss', patience=2)]\n",
        ")\n"
      ]
    },
    {
      "cell_type": "code",
      "execution_count": 17,
      "metadata": {
        "colab": {
          "base_uri": "https://localhost:8080/"
        },
        "id": "80b40ghotidh",
        "outputId": "bde14e0f-7656-4f2f-c08e-3dbfce11b02e"
      },
      "outputs": [
        {
          "output_type": "stream",
          "name": "stdout",
          "text": [
            "Best hyperparameters: {'embedding_dim': 256, 'lstm_units': 256, 'dense_units': 256, 'dropout_rate': 0.2, 'learning_rate': 0.001}\n"
          ]
        }
      ],
      "source": [
        "optimal_hyperparams = tuner.get_best_hyperparameters(1)[0]\n",
        "print(\"Best hyperparameters:\", optimal_hyperparams.values)\n"
      ]
    },
    {
      "cell_type": "markdown",
      "metadata": {
        "id": "x5QW9-Vmwli8"
      },
      "source": [
        "Model with best parameter"
      ]
    },
    {
      "cell_type": "code",
      "execution_count": 18,
      "metadata": {
        "colab": {
          "base_uri": "https://localhost:8080/",
          "height": 907
        },
        "id": "e2ndKdUFxwU7",
        "outputId": "39c925b7-d615-4959-c6c9-4eb6d77712b6"
      },
      "outputs": [
        {
          "output_type": "display_data",
          "data": {
            "text/plain": [
              "\u001b[1mModel: \"functional_1\"\u001b[0m\n"
            ],
            "text/html": [
              "<pre style=\"white-space:pre;overflow-x:auto;line-height:normal;font-family:Menlo,'DejaVu Sans Mono',consolas,'Courier New',monospace\"><span style=\"font-weight: bold\">Model: \"functional_1\"</span>\n",
              "</pre>\n"
            ]
          },
          "metadata": {}
        },
        {
          "output_type": "display_data",
          "data": {
            "text/plain": [
              "┏━━━━━━━━━━━━━━━━━━━━━┳━━━━━━━━━━━━━━━━━━━┳━━━━━━━━━━━━┳━━━━━━━━━━━━━━━━━━━┓\n",
              "┃\u001b[1m \u001b[0m\u001b[1mLayer (type)       \u001b[0m\u001b[1m \u001b[0m┃\u001b[1m \u001b[0m\u001b[1mOutput Shape     \u001b[0m\u001b[1m \u001b[0m┃\u001b[1m \u001b[0m\u001b[1m   Param #\u001b[0m\u001b[1m \u001b[0m┃\u001b[1m \u001b[0m\u001b[1mConnected to     \u001b[0m\u001b[1m \u001b[0m┃\n",
              "┡━━━━━━━━━━━━━━━━━━━━━╇━━━━━━━━━━━━━━━━━━━╇━━━━━━━━━━━━╇━━━━━━━━━━━━━━━━━━━┩\n",
              "│ input_layer_3       │ (\u001b[38;5;45mNone\u001b[0m, \u001b[38;5;34m40\u001b[0m)        │          \u001b[38;5;34m0\u001b[0m │ -                 │\n",
              "│ (\u001b[38;5;33mInputLayer\u001b[0m)        │                   │            │                   │\n",
              "├─────────────────────┼───────────────────┼────────────┼───────────────────┤\n",
              "│ embedding_1         │ (\u001b[38;5;45mNone\u001b[0m, \u001b[38;5;34m40\u001b[0m, \u001b[38;5;34m256\u001b[0m)   │  \u001b[38;5;34m2,174,720\u001b[0m │ input_layer_3[\u001b[38;5;34m0\u001b[0m]… │\n",
              "│ (\u001b[38;5;33mEmbedding\u001b[0m)         │                   │            │                   │\n",
              "├─────────────────────┼───────────────────┼────────────┼───────────────────┤\n",
              "│ input_layer_2       │ (\u001b[38;5;45mNone\u001b[0m, \u001b[38;5;34m256\u001b[0m)       │          \u001b[38;5;34m0\u001b[0m │ -                 │\n",
              "│ (\u001b[38;5;33mInputLayer\u001b[0m)        │                   │            │                   │\n",
              "├─────────────────────┼───────────────────┼────────────┼───────────────────┤\n",
              "│ dropout_3 (\u001b[38;5;33mDropout\u001b[0m) │ (\u001b[38;5;45mNone\u001b[0m, \u001b[38;5;34m40\u001b[0m, \u001b[38;5;34m256\u001b[0m)   │          \u001b[38;5;34m0\u001b[0m │ embedding_1[\u001b[38;5;34m0\u001b[0m][\u001b[38;5;34m0\u001b[0m] │\n",
              "├─────────────────────┼───────────────────┼────────────┼───────────────────┤\n",
              "│ not_equal_1         │ (\u001b[38;5;45mNone\u001b[0m, \u001b[38;5;34m40\u001b[0m)        │          \u001b[38;5;34m0\u001b[0m │ input_layer_3[\u001b[38;5;34m0\u001b[0m]… │\n",
              "│ (\u001b[38;5;33mNotEqual\u001b[0m)          │                   │            │                   │\n",
              "├─────────────────────┼───────────────────┼────────────┼───────────────────┤\n",
              "│ dropout_2 (\u001b[38;5;33mDropout\u001b[0m) │ (\u001b[38;5;45mNone\u001b[0m, \u001b[38;5;34m256\u001b[0m)       │          \u001b[38;5;34m0\u001b[0m │ input_layer_2[\u001b[38;5;34m0\u001b[0m]… │\n",
              "├─────────────────────┼───────────────────┼────────────┼───────────────────┤\n",
              "│ lstm_1 (\u001b[38;5;33mLSTM\u001b[0m)       │ (\u001b[38;5;45mNone\u001b[0m, \u001b[38;5;34m256\u001b[0m)       │    \u001b[38;5;34m525,312\u001b[0m │ dropout_3[\u001b[38;5;34m0\u001b[0m][\u001b[38;5;34m0\u001b[0m],  │\n",
              "│                     │                   │            │ not_equal_1[\u001b[38;5;34m0\u001b[0m][\u001b[38;5;34m0\u001b[0m] │\n",
              "├─────────────────────┼───────────────────┼────────────┼───────────────────┤\n",
              "│ dense_4 (\u001b[38;5;33mDense\u001b[0m)     │ (\u001b[38;5;45mNone\u001b[0m, \u001b[38;5;34m256\u001b[0m)       │     \u001b[38;5;34m65,792\u001b[0m │ dropout_2[\u001b[38;5;34m0\u001b[0m][\u001b[38;5;34m0\u001b[0m]   │\n",
              "├─────────────────────┼───────────────────┼────────────┼───────────────────┤\n",
              "│ dense_5 (\u001b[38;5;33mDense\u001b[0m)     │ (\u001b[38;5;45mNone\u001b[0m, \u001b[38;5;34m256\u001b[0m)       │     \u001b[38;5;34m65,792\u001b[0m │ lstm_1[\u001b[38;5;34m0\u001b[0m][\u001b[38;5;34m0\u001b[0m]      │\n",
              "├─────────────────────┼───────────────────┼────────────┼───────────────────┤\n",
              "│ add_1 (\u001b[38;5;33mAdd\u001b[0m)         │ (\u001b[38;5;45mNone\u001b[0m, \u001b[38;5;34m256\u001b[0m)       │          \u001b[38;5;34m0\u001b[0m │ dense_4[\u001b[38;5;34m0\u001b[0m][\u001b[38;5;34m0\u001b[0m],    │\n",
              "│                     │                   │            │ dense_5[\u001b[38;5;34m0\u001b[0m][\u001b[38;5;34m0\u001b[0m]     │\n",
              "├─────────────────────┼───────────────────┼────────────┼───────────────────┤\n",
              "│ dense_6 (\u001b[38;5;33mDense\u001b[0m)     │ (\u001b[38;5;45mNone\u001b[0m, \u001b[38;5;34m256\u001b[0m)       │     \u001b[38;5;34m65,792\u001b[0m │ add_1[\u001b[38;5;34m0\u001b[0m][\u001b[38;5;34m0\u001b[0m]       │\n",
              "├─────────────────────┼───────────────────┼────────────┼───────────────────┤\n",
              "│ dense_7 (\u001b[38;5;33mDense\u001b[0m)     │ (\u001b[38;5;45mNone\u001b[0m, \u001b[38;5;34m8495\u001b[0m)      │  \u001b[38;5;34m2,183,215\u001b[0m │ dense_6[\u001b[38;5;34m0\u001b[0m][\u001b[38;5;34m0\u001b[0m]     │\n",
              "└─────────────────────┴───────────────────┴────────────┴───────────────────┘\n"
            ],
            "text/html": [
              "<pre style=\"white-space:pre;overflow-x:auto;line-height:normal;font-family:Menlo,'DejaVu Sans Mono',consolas,'Courier New',monospace\">┏━━━━━━━━━━━━━━━━━━━━━┳━━━━━━━━━━━━━━━━━━━┳━━━━━━━━━━━━┳━━━━━━━━━━━━━━━━━━━┓\n",
              "┃<span style=\"font-weight: bold\"> Layer (type)        </span>┃<span style=\"font-weight: bold\"> Output Shape      </span>┃<span style=\"font-weight: bold\">    Param # </span>┃<span style=\"font-weight: bold\"> Connected to      </span>┃\n",
              "┡━━━━━━━━━━━━━━━━━━━━━╇━━━━━━━━━━━━━━━━━━━╇━━━━━━━━━━━━╇━━━━━━━━━━━━━━━━━━━┩\n",
              "│ input_layer_3       │ (<span style=\"color: #00d7ff; text-decoration-color: #00d7ff\">None</span>, <span style=\"color: #00af00; text-decoration-color: #00af00\">40</span>)        │          <span style=\"color: #00af00; text-decoration-color: #00af00\">0</span> │ -                 │\n",
              "│ (<span style=\"color: #0087ff; text-decoration-color: #0087ff\">InputLayer</span>)        │                   │            │                   │\n",
              "├─────────────────────┼───────────────────┼────────────┼───────────────────┤\n",
              "│ embedding_1         │ (<span style=\"color: #00d7ff; text-decoration-color: #00d7ff\">None</span>, <span style=\"color: #00af00; text-decoration-color: #00af00\">40</span>, <span style=\"color: #00af00; text-decoration-color: #00af00\">256</span>)   │  <span style=\"color: #00af00; text-decoration-color: #00af00\">2,174,720</span> │ input_layer_3[<span style=\"color: #00af00; text-decoration-color: #00af00\">0</span>]… │\n",
              "│ (<span style=\"color: #0087ff; text-decoration-color: #0087ff\">Embedding</span>)         │                   │            │                   │\n",
              "├─────────────────────┼───────────────────┼────────────┼───────────────────┤\n",
              "│ input_layer_2       │ (<span style=\"color: #00d7ff; text-decoration-color: #00d7ff\">None</span>, <span style=\"color: #00af00; text-decoration-color: #00af00\">256</span>)       │          <span style=\"color: #00af00; text-decoration-color: #00af00\">0</span> │ -                 │\n",
              "│ (<span style=\"color: #0087ff; text-decoration-color: #0087ff\">InputLayer</span>)        │                   │            │                   │\n",
              "├─────────────────────┼───────────────────┼────────────┼───────────────────┤\n",
              "│ dropout_3 (<span style=\"color: #0087ff; text-decoration-color: #0087ff\">Dropout</span>) │ (<span style=\"color: #00d7ff; text-decoration-color: #00d7ff\">None</span>, <span style=\"color: #00af00; text-decoration-color: #00af00\">40</span>, <span style=\"color: #00af00; text-decoration-color: #00af00\">256</span>)   │          <span style=\"color: #00af00; text-decoration-color: #00af00\">0</span> │ embedding_1[<span style=\"color: #00af00; text-decoration-color: #00af00\">0</span>][<span style=\"color: #00af00; text-decoration-color: #00af00\">0</span>] │\n",
              "├─────────────────────┼───────────────────┼────────────┼───────────────────┤\n",
              "│ not_equal_1         │ (<span style=\"color: #00d7ff; text-decoration-color: #00d7ff\">None</span>, <span style=\"color: #00af00; text-decoration-color: #00af00\">40</span>)        │          <span style=\"color: #00af00; text-decoration-color: #00af00\">0</span> │ input_layer_3[<span style=\"color: #00af00; text-decoration-color: #00af00\">0</span>]… │\n",
              "│ (<span style=\"color: #0087ff; text-decoration-color: #0087ff\">NotEqual</span>)          │                   │            │                   │\n",
              "├─────────────────────┼───────────────────┼────────────┼───────────────────┤\n",
              "│ dropout_2 (<span style=\"color: #0087ff; text-decoration-color: #0087ff\">Dropout</span>) │ (<span style=\"color: #00d7ff; text-decoration-color: #00d7ff\">None</span>, <span style=\"color: #00af00; text-decoration-color: #00af00\">256</span>)       │          <span style=\"color: #00af00; text-decoration-color: #00af00\">0</span> │ input_layer_2[<span style=\"color: #00af00; text-decoration-color: #00af00\">0</span>]… │\n",
              "├─────────────────────┼───────────────────┼────────────┼───────────────────┤\n",
              "│ lstm_1 (<span style=\"color: #0087ff; text-decoration-color: #0087ff\">LSTM</span>)       │ (<span style=\"color: #00d7ff; text-decoration-color: #00d7ff\">None</span>, <span style=\"color: #00af00; text-decoration-color: #00af00\">256</span>)       │    <span style=\"color: #00af00; text-decoration-color: #00af00\">525,312</span> │ dropout_3[<span style=\"color: #00af00; text-decoration-color: #00af00\">0</span>][<span style=\"color: #00af00; text-decoration-color: #00af00\">0</span>],  │\n",
              "│                     │                   │            │ not_equal_1[<span style=\"color: #00af00; text-decoration-color: #00af00\">0</span>][<span style=\"color: #00af00; text-decoration-color: #00af00\">0</span>] │\n",
              "├─────────────────────┼───────────────────┼────────────┼───────────────────┤\n",
              "│ dense_4 (<span style=\"color: #0087ff; text-decoration-color: #0087ff\">Dense</span>)     │ (<span style=\"color: #00d7ff; text-decoration-color: #00d7ff\">None</span>, <span style=\"color: #00af00; text-decoration-color: #00af00\">256</span>)       │     <span style=\"color: #00af00; text-decoration-color: #00af00\">65,792</span> │ dropout_2[<span style=\"color: #00af00; text-decoration-color: #00af00\">0</span>][<span style=\"color: #00af00; text-decoration-color: #00af00\">0</span>]   │\n",
              "├─────────────────────┼───────────────────┼────────────┼───────────────────┤\n",
              "│ dense_5 (<span style=\"color: #0087ff; text-decoration-color: #0087ff\">Dense</span>)     │ (<span style=\"color: #00d7ff; text-decoration-color: #00d7ff\">None</span>, <span style=\"color: #00af00; text-decoration-color: #00af00\">256</span>)       │     <span style=\"color: #00af00; text-decoration-color: #00af00\">65,792</span> │ lstm_1[<span style=\"color: #00af00; text-decoration-color: #00af00\">0</span>][<span style=\"color: #00af00; text-decoration-color: #00af00\">0</span>]      │\n",
              "├─────────────────────┼───────────────────┼────────────┼───────────────────┤\n",
              "│ add_1 (<span style=\"color: #0087ff; text-decoration-color: #0087ff\">Add</span>)         │ (<span style=\"color: #00d7ff; text-decoration-color: #00d7ff\">None</span>, <span style=\"color: #00af00; text-decoration-color: #00af00\">256</span>)       │          <span style=\"color: #00af00; text-decoration-color: #00af00\">0</span> │ dense_4[<span style=\"color: #00af00; text-decoration-color: #00af00\">0</span>][<span style=\"color: #00af00; text-decoration-color: #00af00\">0</span>],    │\n",
              "│                     │                   │            │ dense_5[<span style=\"color: #00af00; text-decoration-color: #00af00\">0</span>][<span style=\"color: #00af00; text-decoration-color: #00af00\">0</span>]     │\n",
              "├─────────────────────┼───────────────────┼────────────┼───────────────────┤\n",
              "│ dense_6 (<span style=\"color: #0087ff; text-decoration-color: #0087ff\">Dense</span>)     │ (<span style=\"color: #00d7ff; text-decoration-color: #00d7ff\">None</span>, <span style=\"color: #00af00; text-decoration-color: #00af00\">256</span>)       │     <span style=\"color: #00af00; text-decoration-color: #00af00\">65,792</span> │ add_1[<span style=\"color: #00af00; text-decoration-color: #00af00\">0</span>][<span style=\"color: #00af00; text-decoration-color: #00af00\">0</span>]       │\n",
              "├─────────────────────┼───────────────────┼────────────┼───────────────────┤\n",
              "│ dense_7 (<span style=\"color: #0087ff; text-decoration-color: #0087ff\">Dense</span>)     │ (<span style=\"color: #00d7ff; text-decoration-color: #00d7ff\">None</span>, <span style=\"color: #00af00; text-decoration-color: #00af00\">8495</span>)      │  <span style=\"color: #00af00; text-decoration-color: #00af00\">2,183,215</span> │ dense_6[<span style=\"color: #00af00; text-decoration-color: #00af00\">0</span>][<span style=\"color: #00af00; text-decoration-color: #00af00\">0</span>]     │\n",
              "└─────────────────────┴───────────────────┴────────────┴───────────────────┘\n",
              "</pre>\n"
            ]
          },
          "metadata": {}
        },
        {
          "output_type": "display_data",
          "data": {
            "text/plain": [
              "\u001b[1m Total params: \u001b[0m\u001b[38;5;34m5,080,623\u001b[0m (19.38 MB)\n"
            ],
            "text/html": [
              "<pre style=\"white-space:pre;overflow-x:auto;line-height:normal;font-family:Menlo,'DejaVu Sans Mono',consolas,'Courier New',monospace\"><span style=\"font-weight: bold\"> Total params: </span><span style=\"color: #00af00; text-decoration-color: #00af00\">5,080,623</span> (19.38 MB)\n",
              "</pre>\n"
            ]
          },
          "metadata": {}
        },
        {
          "output_type": "display_data",
          "data": {
            "text/plain": [
              "\u001b[1m Trainable params: \u001b[0m\u001b[38;5;34m5,080,623\u001b[0m (19.38 MB)\n"
            ],
            "text/html": [
              "<pre style=\"white-space:pre;overflow-x:auto;line-height:normal;font-family:Menlo,'DejaVu Sans Mono',consolas,'Courier New',monospace\"><span style=\"font-weight: bold\"> Trainable params: </span><span style=\"color: #00af00; text-decoration-color: #00af00\">5,080,623</span> (19.38 MB)\n",
              "</pre>\n"
            ]
          },
          "metadata": {}
        },
        {
          "output_type": "display_data",
          "data": {
            "text/plain": [
              "\u001b[1m Non-trainable params: \u001b[0m\u001b[38;5;34m0\u001b[0m (0.00 B)\n"
            ],
            "text/html": [
              "<pre style=\"white-space:pre;overflow-x:auto;line-height:normal;font-family:Menlo,'DejaVu Sans Mono',consolas,'Courier New',monospace\"><span style=\"font-weight: bold\"> Non-trainable params: </span><span style=\"color: #00af00; text-decoration-color: #00af00\">0</span> (0.00 B)\n",
              "</pre>\n"
            ]
          },
          "metadata": {}
        },
        {
          "output_type": "stream",
          "name": "stdout",
          "text": [
            "Epoch 1/10\n",
            "\u001b[1m5236/5236\u001b[0m \u001b[32m━━━━━━━━━━━━━━━━━━━━\u001b[0m\u001b[37m\u001b[0m \u001b[1m0s\u001b[0m 10ms/step - accuracy: 0.2657 - loss: 4.4538"
          ]
        },
        {
          "output_type": "stream",
          "name": "stderr",
          "text": [
            "WARNING:absl:You are saving your model as an HDF5 file via `model.save()` or `keras.saving.save_model(model)`. This file format is considered legacy. We recommend using instead the native Keras format, e.g. `model.save('my_model.keras')` or `keras.saving.save_model(model, 'my_model.keras')`. \n"
          ]
        },
        {
          "output_type": "stream",
          "name": "stdout",
          "text": [
            "\b\b\b\b\b\b\b\b\b\b\b\b\b\b\b\b\b\b\b\b\b\b\b\b\b\b\b\b\b\b\b\b\b\b\b\b\b\b\b\b\b\b\b\b\b\b\b\b\b\b\b\b\b\b\b\b\b\b\b\b\b\b\b\b\b\b\b\b\b\b\b\b\b\b\b\b\b\r\u001b[1m5236/5236\u001b[0m \u001b[32m━━━━━━━━━━━━━━━━━━━━\u001b[0m\u001b[37m\u001b[0m \u001b[1m63s\u001b[0m 12ms/step - accuracy: 0.2657 - loss: 4.4537 - val_accuracy: 0.3420 - val_loss: 3.6376\n",
            "Epoch 2/10\n",
            "\u001b[1m5232/5236\u001b[0m \u001b[32m━━━━━━━━━━━━━━━━━━━\u001b[0m\u001b[37m━\u001b[0m \u001b[1m0s\u001b[0m 11ms/step - accuracy: 0.3511 - loss: 3.3956"
          ]
        },
        {
          "output_type": "stream",
          "name": "stderr",
          "text": [
            "WARNING:absl:You are saving your model as an HDF5 file via `model.save()` or `keras.saving.save_model(model)`. This file format is considered legacy. We recommend using instead the native Keras format, e.g. `model.save('my_model.keras')` or `keras.saving.save_model(model, 'my_model.keras')`. \n"
          ]
        },
        {
          "output_type": "stream",
          "name": "stdout",
          "text": [
            "\b\b\b\b\b\b\b\b\b\b\b\b\b\b\b\b\b\b\b\b\b\b\b\b\b\b\b\b\b\b\b\b\b\b\b\b\b\b\b\b\b\b\b\b\b\b\b\b\b\b\b\b\b\b\b\b\b\b\b\b\b\b\b\b\b\b\b\b\b\b\b\b\b\b\b\b\b\r\u001b[1m5236/5236\u001b[0m \u001b[32m━━━━━━━━━━━━━━━━━━━━\u001b[0m\u001b[37m\u001b[0m \u001b[1m66s\u001b[0m 13ms/step - accuracy: 0.3511 - loss: 3.3956 - val_accuracy: 0.3603 - val_loss: 3.5045\n",
            "Epoch 3/10\n",
            "\u001b[1m5236/5236\u001b[0m \u001b[32m━━━━━━━━━━━━━━━━━━━━\u001b[0m\u001b[37m\u001b[0m \u001b[1m0s\u001b[0m 11ms/step - accuracy: 0.3711 - loss: 3.1283"
          ]
        },
        {
          "output_type": "stream",
          "name": "stderr",
          "text": [
            "WARNING:absl:You are saving your model as an HDF5 file via `model.save()` or `keras.saving.save_model(model)`. This file format is considered legacy. We recommend using instead the native Keras format, e.g. `model.save('my_model.keras')` or `keras.saving.save_model(model, 'my_model.keras')`. \n"
          ]
        },
        {
          "output_type": "stream",
          "name": "stdout",
          "text": [
            "\b\b\b\b\b\b\b\b\b\b\b\b\b\b\b\b\b\b\b\b\b\b\b\b\b\b\b\b\b\b\b\b\b\b\b\b\b\b\b\b\b\b\b\b\b\b\b\b\b\b\b\b\b\b\b\b\b\b\b\b\b\b\b\b\b\b\b\b\b\b\b\b\b\b\b\b\b\r\u001b[1m5236/5236\u001b[0m \u001b[32m━━━━━━━━━━━━━━━━━━━━\u001b[0m\u001b[37m\u001b[0m \u001b[1m60s\u001b[0m 11ms/step - accuracy: 0.3711 - loss: 3.1283 - val_accuracy: 0.3694 - val_loss: 3.4907\n",
            "Epoch 4/10\n",
            "\u001b[1m5236/5236\u001b[0m \u001b[32m━━━━━━━━━━━━━━━━━━━━\u001b[0m\u001b[37m\u001b[0m \u001b[1m65s\u001b[0m 12ms/step - accuracy: 0.3862 - loss: 2.9596 - val_accuracy: 0.3747 - val_loss: 3.5104\n",
            "Epoch 5/10\n",
            "\u001b[1m5236/5236\u001b[0m \u001b[32m━━━━━━━━━━━━━━━━━━━━\u001b[0m\u001b[37m\u001b[0m \u001b[1m61s\u001b[0m 12ms/step - accuracy: 0.3986 - loss: 2.8276 - val_accuracy: 0.3758 - val_loss: 3.5459\n",
            "Epoch 6/10\n",
            "\u001b[1m5236/5236\u001b[0m \u001b[32m━━━━━━━━━━━━━━━━━━━━\u001b[0m\u001b[37m\u001b[0m \u001b[1m81s\u001b[0m 11ms/step - accuracy: 0.4053 - loss: 2.7408 - val_accuracy: 0.3765 - val_loss: 3.5935\n"
          ]
        },
        {
          "output_type": "execute_result",
          "data": {
            "text/plain": [
              "<keras.src.callbacks.history.History at 0x7f23f8b61450>"
            ]
          },
          "metadata": {},
          "execution_count": 18
        }
      ],
      "source": [
        "\n",
        "\n",
        "# Build the model with the best hyperparameters\n",
        "best_model = construct_model(optimal_hyperparams)\n",
        "best_model.summary()\n",
        "\n",
        "# Train the model with the best hyperparameters\n",
        "best_model.fit(\n",
        "    [train_img, train_seq], train_out,\n",
        "    validation_data=([val_img, val_seq], val_out),\n",
        "    epochs=10,  # You might want to increase the number of epochs\n",
        "    batch_size=64,\n",
        "    callbacks=[EarlyStopping(monitor='val_loss', patience=3),\n",
        "               ModelCheckpoint(os.path.join(MODELS_DIR, 'best_model.h5'),\n",
        "                               save_best_only=True, save_weights_only=False)]\n",
        ")\n"
      ]
    },
    {
      "cell_type": "markdown",
      "metadata": {
        "id": "wTL_DIU82fGi"
      },
      "source": [
        "Plot loss and accuracy curves"
      ]
    },
    {
      "cell_type": "code",
      "execution_count": 19,
      "metadata": {
        "colab": {
          "base_uri": "https://localhost:8080/",
          "height": 507
        },
        "id": "FghklRVl27FY",
        "outputId": "dd7fa6fd-6638-48cb-ee7c-bd235c0b12b3"
      },
      "outputs": [
        {
          "output_type": "display_data",
          "data": {
            "text/plain": [
              "<Figure size 1400x500 with 2 Axes>"
            ],
            "image/png": "[encoded data removed]"
          },
          "metadata": {}
        }
      ],
      "source": [
        "\n",
        "import matplotlib.pyplot as plt\n",
        "\n",
        "def plot_training_curves(history):\n",
        "    acc = history.history['accuracy']\n",
        "    val_acc = history.history['val_accuracy']\n",
        "    loss = history.history['loss']\n",
        "    val_loss = history.history['val_loss']\n",
        "    epochs = range(len(acc))\n",
        "\n",
        "    plt.figure(figsize=(14, 5))\n",
        "\n",
        "    # Plot training and validation accuracy per epoch\n",
        "    plt.subplot(1, 2, 1)\n",
        "    plt.plot(epochs, acc, label='Training Accuracy')\n",
        "    plt.plot(epochs, val_acc, label='Validation Accuracy')\n",
        "    plt.title('Training and validation accuracy')\n",
        "    plt.xlabel('Epoch')\n",
        "    plt.ylabel('Accuracy')\n",
        "    plt.legend()\n",
        "\n",
        "\n",
        "    # Plot training and validation loss per epoch\n",
        "    plt.subplot(1, 2, 2)\n",
        "    plt.plot(epochs, loss, label='Training Loss')\n",
        "    plt.plot(epochs, val_loss, label='Validation Loss')\n",
        "    plt.title('Training and validation loss')\n",
        "    plt.xlabel('Epoch')\n",
        "    plt.ylabel('Loss')\n",
        "    plt.legend()\n",
        "\n",
        "    plt.show()\n",
        "\n",
        "plot_training_curves(best_model.history)\n"
      ]
    },
    {
      "cell_type": "code",
      "execution_count": 20,
      "metadata": {
        "colab": {
          "base_uri": "https://localhost:8080/"
        },
        "id": "PKroJEY427oB",
        "outputId": "4f12dead-ea64-4755-a533-ac332ac3ddd3"
      },
      "outputs": [
        {
          "output_type": "stream",
          "name": "stdout",
          "text": [
            "Saving the final model...\n"
          ]
        }
      ],
      "source": [
        "\n",
        "print(\"Saving the final model...\")\n",
        "best_model.save(os.path.join(MODELS_DIR, 'final_model.keras'))\n",
        "with open(os.path.join(OUTPUT_DIR, 'tokenizer.pkl'), 'wb') as f:\n",
        "    pickle.dump(tokenizer, f)\n",
        "with open(os.path.join(OUTPUT_DIR, 'max_length.pkl'), 'wb') as f:\n",
        "    pickle.dump(max_length, f)\n"
      ]
    },
    {
      "cell_type": "markdown",
      "metadata": {
        "id": "lAxWf0Ro3mPM"
      },
      "source": [
        "Define a function for generating captions for new images"
      ]
    },
    {
      "cell_type": "code",
      "execution_count": 21,
      "metadata": {
        "id": "js3v3Agg3odO"
      },
      "outputs": [],
      "source": [
        "\n",
        "def generate_caption(model, image_path, tokenizer, max_length, features=None):\n",
        "    # Extract features if not provided\n",
        "    if features is None:\n",
        "        img = load_img(image_path, target_size=(299, 299))\n",
        "        img = img_to_array(img)\n",
        "        img = np.expand_dims(img, axis=0)\n",
        "        img = preprocess_input(img)\n",
        "        feature = base_model.predict(img, verbose=0)\n",
        "        feature = feature.flatten()\n",
        "    else:\n",
        "        img_id = os.path.basename(image_path).split('.')[0]\n",
        "        if img_id in features:\n",
        "            feature = features[img_id]\n",
        "        else:\n",
        "            return \"Image features not found\"\n",
        "    # Generate caption\n",
        "    in_text = '<start>'\n",
        "    for i in range(max_length):\n",
        "        sequence = tokenizer.texts_to_sequences([in_text])[0]\n",
        "        sequence = pad_sequences([sequence], maxlen=max_length, padding='post')\n",
        "        yhat = model.predict([np.array([feature]), sequence], verbose=0)\n",
        "        yhat = np.argmax(yhat)\n",
        "        word = ''\n",
        "        for w, idx in tokenizer.word_index.items():\n",
        "            if idx == yhat:\n",
        "                word = w\n",
        "                break\n",
        "        if word is None or word == '<end>':\n",
        "            break\n",
        "        in_text += ' ' + word\n",
        "    # Remove <start>\n",
        "    caption = in_text.replace('<start>', '').strip()\n",
        "    return caption\n"
      ]
    },
    {
      "cell_type": "markdown",
      "metadata": {
        "id": "zp_4ywVU3rlg"
      },
      "source": [
        "Test the model on a few test images"
      ]
    },
    {
      "cell_type": "code",
      "execution_count": 24,
      "metadata": {
        "colab": {
          "base_uri": "https://localhost:8080/"
        },
        "id": "d5BnxinD3pBU",
        "outputId": "de98f0ed-b3b4-476d-82f6-0f27b6769d56"
      },
      "outputs": [
        {
          "output_type": "stream",
          "name": "stdout",
          "text": [
            "Loaded saved model.\n",
            "\n",
            "Testing the model on sample images:\n",
            "Image 1 (ID: 498444334_a680d318a1):\n",
            "Generated: a man in a red shirt is standing in front of a building end of a large rock end end end end end end end end end end end of a bench end end end end end end end end\n",
            "Original: a group of young men clowning around while enjoying a beverage .\n",
            "--------------------------------------------------\n",
            "Image 2 (ID: 2102724238_3cf921d7bb):\n",
            "Generated: a man in a red shirt is standing in front of a crowd of people end end of a bench end end end end end end end of a bench end end end end end end end end end of\n",
            "Original: \"a woman in a knit cap and a man in a peacoat sit on a subway , laden with bags .\"\n",
            "--------------------------------------------------\n",
            "Image 3 (ID: 3177799416_5bd0382370):\n",
            "Generated: a man in a blue shirt is standing on a beach end of a snowy mountain end end end end end end end end end end end end end end end end end end end end end end end end\n",
            "Original: a person snowboarding down a snowy hill .\n",
            "--------------------------------------------------\n",
            "Image 4 (ID: 470887781_faae5dae83):\n",
            "Generated: a man in a red shirt is standing in front of a crowd of people end end of a bench end end of a bench end end end end end end end of a bench end end end end end\n",
            "Original: a crowd at a rally .\n",
            "--------------------------------------------------\n",
            "Image 5 (ID: 3539840291_1c3eed701d):\n",
            "Generated: a man in a red shirt and a woman in a white shirt and a woman in a white shirt and a white shirt end a cigarette end of a tree end end end end end end end end end\n",
            "Original: a man is about to be tackled in the rugby game .\n",
            "--------------------------------------------------\n",
            "Image captioning model training and testing complete!\n"
          ]
        }
      ],
      "source": [
        "\n",
        "def test_model(model, test_ids, n_samples=5):\n",
        "    print(\"\\nTesting the model on sample images:\")\n",
        "    np.random.shuffle(test_ids)\n",
        "    for i, img_id in enumerate(test_ids[:n_samples]):\n",
        "        if img_id not in features:\n",
        "            continue\n",
        "        img_path = os.path.join(DATASET_PATH, img_id + '.jpg')\n",
        "        if not os.path.exists(img_path):\n",
        "            continue\n",
        "        # Generate caption\n",
        "        caption = generate_caption(model, img_path, tokenizer, max_length, features)\n",
        "        # Display original captions for comparison\n",
        "        original_captions = captions.get(img_id, [\"No caption available\"])\n",
        "        original_formatted = [cap.replace('<start>', '').replace('<end>', '').strip() for cap in original_captions]\n",
        "        print(f\"Image {i+1} (ID: {img_id}):\")\n",
        "        print(f\"Generated: {caption}\")\n",
        "        print(f\"Original: {original_formatted[0]}\")\n",
        "        print(\"-\" * 50)\n",
        "\n",
        "# Load the best model and test it\n",
        "try:\n",
        "    final_model = tf.keras.models.load_model(os.path.join(MODELS_DIR, 'final_model.keras'))\n",
        "    print(\"Loaded saved model.\")\n",
        "    test_model(final_model, test_ids)\n",
        "except Exception as e:\n",
        "    print(f\"No saved model found or error loading model: {e}\")\n",
        "    print(\"Using the last trained model.\")\n",
        "    test_model(best_model, test_ids)\n",
        "print(\"Image captioning model training and testing complete!\")\n"
      ]
    },
    {
      "cell_type": "code",
      "execution_count": null,
      "metadata": {
        "id": "IPELGxkr3_mG"
      },
      "outputs": [],
      "source": []
    }
  ],
  "metadata": {
    "accelerator": "GPU",
    "colab": {
      "gpuType": "T4",
      "provenance": []
    },
    "kernelspec": {
      "display_name": "Python 3",
      "name": "python3"
    },
    "language_info": {
      "name": "python"
    }
  },
  "nbformat": 4,
  "nbformat_minor": 0
}